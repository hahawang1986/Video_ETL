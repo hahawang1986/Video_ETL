{
	"metadata": {
		"kernelspec": {
			"name": "glue_pyspark",
			"display_name": "Glue PySpark",
			"language": "python"
		},
		"language_info": {
			"name": "Python_Glue_Session",
			"mimetype": "text/x-python",
			"codemirror_mode": {
				"name": "python",
				"version": 3
			},
			"pygments_lexer": "python3",
			"file_extension": ".py"
		}
	},
	"nbformat_minor": 4,
	"nbformat": 4,
	"cells": [
		{
			"cell_type": "markdown",
			"source": "# AWS Glue Studio Notebook\n##### You are now running a AWS Glue Studio notebook; To start using your notebook you need to start an AWS Glue Interactive Session.\n",
			"metadata": {
				"editable": true,
				"trusted": true
			}
		},
		{
			"cell_type": "markdown",
			"source": "#### Optional: Run this cell to see available notebook commands (\"magics\").\n",
			"metadata": {
				"editable": true,
				"trusted": true
			}
		},
		{
			"cell_type": "code",
			"source": "%help",
			"metadata": {
				"trusted": true,
				"editable": true
			},
			"execution_count": null,
			"outputs": []
		},
		{
			"cell_type": "markdown",
			"source": "####  Run this cell to set up and start your interactive session.\n",
			"metadata": {
				"editable": true,
				"trusted": true
			}
		},
		{
			"cell_type": "code",
			"source": "%idle_timeout 60\n%glue_version 4.0\n%worker_type G.1X\n%number_of_workers 2\n\nimport sys\nfrom awsglue.transforms import *\nfrom awsglue.utils import getResolvedOptions\nfrom pyspark.context import SparkContext\nfrom awsglue.context import GlueContext\nfrom awsglue.job import Job\n  \nsc = SparkContext.getOrCreate()\nglueContext = GlueContext(sc)\nspark = glueContext.spark_session\njob = Job(glueContext)",
			"metadata": {
				"trusted": true,
				"editable": true
			},
			"execution_count": 5,
			"outputs": [
				{
					"name": "stderr",
					"text": "You are already connected to a glueetl session 02cfb0b6-4c27-432b-be2d-c4793107980a.\n\nNo change will be made to the current session that is set as glueetl. The session configuration change will apply to newly created sessions.\n",
					"output_type": "stream"
				},
				{
					"name": "stdout",
					"text": "Current idle_timeout is 60 minutes.\nidle_timeout has been set to 60 minutes.\n",
					"output_type": "stream"
				},
				{
					"name": "stderr",
					"text": "You are already connected to a glueetl session 02cfb0b6-4c27-432b-be2d-c4793107980a.\n\nNo change will be made to the current session that is set as glueetl. The session configuration change will apply to newly created sessions.\n",
					"output_type": "stream"
				},
				{
					"name": "stdout",
					"text": "Setting Glue version to: 4.0\n",
					"output_type": "stream"
				},
				{
					"name": "stderr",
					"text": "You are already connected to a glueetl session 02cfb0b6-4c27-432b-be2d-c4793107980a.\n\nNo change will be made to the current session that is set as glueetl. The session configuration change will apply to newly created sessions.\n",
					"output_type": "stream"
				},
				{
					"name": "stdout",
					"text": "Previous worker type: G.1X\nSetting new worker type to: G.1X\n",
					"output_type": "stream"
				},
				{
					"name": "stderr",
					"text": "You are already connected to a glueetl session 02cfb0b6-4c27-432b-be2d-c4793107980a.\n\nNo change will be made to the current session that is set as glueetl. The session configuration change will apply to newly created sessions.\n",
					"output_type": "stream"
				},
				{
					"name": "stdout",
					"text": "Previous number of workers: 2\nSetting new number of workers to: 2\n\n",
					"output_type": "stream"
				}
			]
		},
		{
			"cell_type": "code",
			"source": "from datetime import *\ncurrent_date = datetime.today().strftime('%Y-%m-%d')\n\ns3_path = f's3://video-transient-bucket/{current_date}/'\n\ndynamic_frame = glueContext.create_dynamic_frame.from_options(\n    connection_type=\"s3\",\n    connection_options={\"paths\": [s3_path]},\n    format=\"csv\",\n    format_options={\"withHeader\": True}#,\"optimizePerformance\": True}\n)\ndynamic_frame.printSchema()\ndynamic_frame.count()",
			"metadata": {
				"trusted": true,
				"tags": []
			},
			"execution_count": 6,
			"outputs": [
				{
					"name": "stdout",
					"text": "root\n|-- DateTime: string\n|-- VideoTitle: string\n|-- events: string\n|-- id: string\n\n995676\n",
					"output_type": "stream"
				}
			]
		},
		{
			"cell_type": "code",
			"source": "df = dynamic_frame.toDF()\n\nif df.columns != ['DateTime','VideoTitle','events','id']:\n    spark.stop()\n    job.commit()\n    print(\"The dataset is lack of necessary columns\")\n    sys.exit(0)",
			"metadata": {
				"trusted": true,
				"tags": []
			},
			"execution_count": 7,
			"outputs": [
				{
					"name": "stdout",
					"text": "\n",
					"output_type": "stream"
				}
			]
		},
		{
			"cell_type": "code",
			"source": "# import boto3\n# glue_client = boto3.client('glue', region_name='ap-southeast-2')\n\n# # 检查并创建数据库\n# database_name = 'video_raw_data'\n# try:\n#     response = glue_client.get_database(Name=database_name)\n#     print(f\"Database {database_name} already exists.\")\n# except glue_client.exceptions.EntityNotFoundException:\n#     response = glue_client.create_database(\n#         DatabaseInput={\n#             'Name': database_name,\n#             'Description': 'Database for video raw data'\n#         }\n#     )\n#     print(f\"Database {database_name} created.\")\n    \n# from datetime import *\n# current_date = datetime.today().strftime('%Y-%m-%d')\n# s3output = glueContext.getSink(\n#   path=f\"s3://video-raw-bucket/{current_date}\",\n#   connection_type=\"s3\",\n#   updateBehavior=\"UPDATE_IN_DATABASE\",\n#   partitionKeys=[],\n#   compression=\"snappy\",\n#   enableUpdateCatalog=True,\n#   transformation_ctx=\"s3output\",\n# )\n# s3output.setCatalogInfo(\n#   catalogDatabase=\"video_raw_data\", catalogTableName=\"video\"\n# )\n# s3output.setFormat(\"glueparquet\")\n# s3output.writeFrame(dynamic_frame)",
			"metadata": {
				"trusted": true,
				"tags": []
			},
			"execution_count": 9,
			"outputs": [
				{
					"name": "stdout",
					"text": "Database video_raw_data created.\n",
					"output_type": "stream"
				}
			]
		},
		{
			"cell_type": "code",
			"source": "from datetime import *\ncurrent_date = datetime.today().strftime('%Y-%m-%d')\noutput_path = f's3://video-raw-bucket/{current_date}'\nglueContext.write_dynamic_frame.from_options(\n    frame=dynamic_frame, \n    connection_type=\"s3\", \n    connection_options={\"path\": output_path},\n    format=\"csv\"\n)\njob.commit()\n",
			"metadata": {
				"trusted": true,
				"tags": []
			},
			"execution_count": 8,
			"outputs": [
				{
					"name": "stdout",
					"text": "\n",
					"output_type": "stream"
				}
			]
		},
		{
			"cell_type": "code",
			"source": "# # 读取参数\n# input_path = output_path\n\n# # 读取 S3 上的 CSV 文件为 DynamicFrame\n# dynamic_frame = glueContext.create_dynamic_frame.from_options(\n#     connection_type=\"s3\",\n#     connection_options={\"paths\": [input_path]},\n#     format=\"csv\",\n#     format_options={\"withHeader\": True,\n#                    \"optimizePerformance\": True}\n# )\n# print(dynamic_frame.count())",
			"metadata": {
				"trusted": true,
				"tags": []
			},
			"execution_count": 9,
			"outputs": [
				{
					"name": "stdout",
					"text": "995676\n",
					"output_type": "stream"
				}
			]
		},
		{
			"cell_type": "code",
			"source": "",
			"metadata": {},
			"execution_count": null,
			"outputs": []
		}
	]
}