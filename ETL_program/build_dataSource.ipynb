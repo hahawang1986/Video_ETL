{
 "cells": [
  {
   "cell_type": "code",
   "execution_count": 7,
   "metadata": {},
   "outputs": [],
   "source": [
    "spark.stop()\n",
    "#!pip install findspark"
   ]
  },
  {
   "cell_type": "code",
   "execution_count": 74,
   "metadata": {},
   "outputs": [],
   "source": [
    "## This is for correct the file-format, because some chinese sign cann't be read by utf-8\n",
    "# from pyspark.sql import SparkSession\n",
    "# from pyspark.sql.functions import col, array_contains, split, when, regexp_replace\n",
    "\n",
    "# # creat SparkSession\n",
    "# spark = SparkSession.builder \\\n",
    "#     .appName(\"ETL_media\") \\\n",
    "#     .getOrCreate()\n",
    "# #file_path = r'F:\\申请，润\\我去澳洲\\university of adelaide\\AWS\\video_data.csv'\n",
    "# # load CSV \n",
    "# # File layout - inferSchema \n",
    "# # Field delimiter – pipe, tab, comma\n",
    "# # File encoding – ASCII, UTF-8, UTF-16,gb2312 中文字符\n",
    "# # API - read.csv\n",
    "# #df = spark.read.csv(file_path, header=True, inferSchema=True,encoding=\"gb2312\")\n",
    "# df = spark.read.csv(\"video_data.csv\", header=True, inferSchema=True,encoding=\"gb2312\") # automately recognize the type of data\n",
    "# df = df.drop(\"_c3\")\n",
    "# df.show(1,truncate=False)\n",
    "\n",
    "# df = df.withColumn(\"VideoTitle\", regexp_replace(col(\"VideoTitle\"), \"’\", \"'\")) \\\n",
    "#        .withColumn(\"VideoTitle\", regexp_replace(col(\"VideoTitle\"), \"‘\", \"'\")) \\\n",
    "#         .withColumn(\"VideoTitle\", regexp_replace(col(\"VideoTitle\"), \"”\", \"\\\"\")) \\\n",
    "#         .withColumn(\"VideoTitle\", regexp_replace(col(\"VideoTitle\"), \"“\", \"\\\"\"))\n",
    "# df.show(200,truncate=False)\n",
    "# file_name1 = r\"F:\\申请，润\\我去澳洲\\university of adelaide\\AWS\\ETL\\source\"\n",
    "# df.coalesce(1).write.csv(file_name1, mode='overwrite', header=True, encoding='UTF-8')"
   ]
  },
  {
   "cell_type": "code",
   "execution_count": 1,
   "metadata": {},
   "outputs": [
    {
     "name": "stdout",
     "output_type": "stream",
     "text": [
      "Spark Executor Memory: 8g\n",
      "Spark Driver Memory: 4g\n",
      "Spark Executor Cores: 4\n",
      "Spark Driver Cores: 1\n",
      "+-------------------+---------------------------------------------------------+-----------------------------------------------+\n",
      "|DateTime           |VideoTitle                                               |events                                         |\n",
      "+-------------------+---------------------------------------------------------+-----------------------------------------------+\n",
      "|2024-01-11 10:30:31|App Web|Clips|a-current-affair;2016|William Tyrrell twist|157,120,160,104,162,000,000,000,000,000,000,000|\n",
      "+-------------------+---------------------------------------------------------+-----------------------------------------------+\n",
      "only showing top 1 row\n",
      "\n"
     ]
    }
   ],
   "source": [
    "import findspark \n",
    "\n",
    "findspark.init()\n",
    "findspark.find()\n",
    "from pyspark.sql import SparkSession\n",
    "from pyspark.sql.functions import col, array_contains, split, when, regexp_replace\n",
    "\n",
    "# creat SparkSession\n",
    "spark = SparkSession.builder \\\n",
    "    .appName(\"ETL_media\") \\\n",
    "    .config(\"spark.executor.memory\", \"8g\") \\\n",
    "    .config(\"spark.driver.memory\", \"4g\") \\\n",
    "    .config(\"spark.executor.cores\", \"4\") \\\n",
    "    .config(\"spark.driver.cores\", \"1\") \\\n",
    "    .getOrCreate()\n",
    "print(f\"Spark Executor Memory: {spark.conf.get('spark.executor.memory')}\")\n",
    "print(f\"Spark Driver Memory: {spark.conf.get('spark.driver.memory')}\")\n",
    "print(f\"Spark Executor Cores: {spark.conf.get('spark.executor.cores')}\")\n",
    "print(f\"Spark Driver Cores: {spark.conf.get('spark.driver.cores')}\")\n",
    "\n",
    "#file_path = r'F:\\申请，润\\我去澳洲\\university of adelaide\\AWS\\video_data.csv'\n",
    "# load CSV \n",
    "# File layout - inferSchema \n",
    "# Field delimiter – pipe, tab, comma\n",
    "# File encoding – ASCII, UTF-8, UTF-16,gb2312 中文字符\n",
    "# API - read.csv\n",
    "#df = spark.read.csv(file_path, header=True, inferSchema=True,encoding=\"gb2312\")\n",
    "df = spark.read.csv(\"video_data_new.csv\", header=True, inferSchema=True,encoding=\"UTF-8\") # automately recognize the type of data\n",
    "df.show(1,truncate=False)\n",
    "\n"
   ]
  },
  {
   "cell_type": "code",
   "execution_count": 2,
   "metadata": {},
   "outputs": [
    {
     "name": "stdout",
     "output_type": "stream",
     "text": [
      "DataFrame with modified cell:\n",
      "+-------------------+-----------------------------------------------------------------------+---------------------------------------------------+\n",
      "|DateTime           |VideoTitle                                                             |events                                             |\n",
      "+-------------------+-----------------------------------------------------------------------+---------------------------------------------------+\n",
      "|NULL               |App Web|Clips|a-current-affair;2016|William Tyrrell twist              |157,120,160,104,162,000,000,000,000,000,000,000    |\n",
      "|2024-01-11 10:30:53|news| Shark attacks spearfisherman                                     |127,157,120,160,104,000,000,000,000                |\n",
      "|2024-01-11 10:30:21|news| Shark attacks spearfisherman                                     |127,157,120,160,104,000,000,000,000,000,000,000,000|\n",
      "|2024-01-11 10:31:27|news| Chilean navy films UFO                                           |157,120,160,104,162,000,000,000,000                |\n",
      "|2024-01-11 10:30:33|news| Video shows alleged axe attack at Sydney service station         |157,120,160,104,162,000,000,000,000,000,000,000    |\n",
      "|2024-01-11 10:30:18|App Web|Clips|today;2024|Pint-sized Aussie surfer hits the global stage|127,157,120,160,104,000,000,000,000,000,000,000,000|\n",
      "|2024-01-11 10:30:22|news| Australian pedophile extradited to US                            |127,157,120,160,104,000,000,000,000,000,000,000,000|\n",
      "|2024-01-11 10:32:50|news| Chilean navy films UFO                                           |127,157,120,160,104,000,000,000,000,000,000,000,000|\n",
      "|2024-01-11 10:32:37|news| Australian pedophile extradited to US                            |157,120,160,104,162,000,000,000,000,000,000,000    |\n",
      "|202401#1110k33l51  |news| Chilean navy films UFO                                           |127,157,120,160,104,000,000,000,000                |\n",
      "+-------------------+-----------------------------------------------------------------------+---------------------------------------------------+\n",
      "only showing top 10 rows\n",
      "\n",
      "root\n",
      " |-- DateTime: string (nullable = true)\n",
      " |-- VideoTitle: string (nullable = true)\n",
      " |-- events: string (nullable = true)\n",
      "\n"
     ]
    }
   ],
   "source": [
    "## set some wrong record for testing\n",
    "\n",
    "col_name = \"DateTime\"\n",
    "target_value = \"2024-01-11 10:30:31\"\n",
    "target_value1 = \"2024-01-11 10:33:51\"\n",
    "\n",
    "# 使用 withColumn 和 when 函数来条件性地更新特定单元格的值\n",
    "df = df.withColumn(col_name,\n",
    "                   when(col(col_name) == target_value, None).otherwise(col(col_name)))\n",
    "df = df.withColumn(col_name,\n",
    "                   when(col(col_name) == target_value1, \"202401#1110k33l51\").otherwise(col(col_name)))\n",
    "\n",
    "# 显示更新后的数据\n",
    "print(\"DataFrame with modified cell:\")\n",
    "df.show(10,truncate=False)\n",
    "df.columns\n",
    "df.count()\n",
    "df.printSchema()\n",
    "\n"
   ]
  },
  {
   "cell_type": "markdown",
   "metadata": {},
   "source": [
    "# Json"
   ]
  },
  {
   "cell_type": "code",
   "execution_count": 3,
   "metadata": {},
   "outputs": [
    {
     "name": "stdout",
     "output_type": "stream",
     "text": [
      "+------------------------------------+---------------------------------------------------------------------------------------------------------------------------------------------------------------------------------------------------------------------------------------------------------------------------------------------------------------------------------------------------------------------------------------------------------------------------------------------------------+\n",
      "|id                                  |profile                                                                                                                                                                                                                                                                                                                                                                                                                                                  |\n",
      "+------------------------------------+---------------------------------------------------------------------------------------------------------------------------------------------------------------------------------------------------------------------------------------------------------------------------------------------------------------------------------------------------------------------------------------------------------------------------------------------------------+\n",
      "|ce9e2a92-a27d-42a4-a723-0b14061b9664|{Samantha, [{2017-11-23, Brisbane, 106000, principal, NULL}, {2013-10-03, Brisbane, 101000, dentist, 2017-11-03}, {2010-02-28, Brisbane, 99000, internal sales, 2013-09-29}, {2007-07-13, Brisbane, 98000, middleware specialist, 2010-02-13}, {2004-11-23, Brisbane, 94000, clinical psychologist, 2007-06-23}, {2002-05-05, Brisbane, 94000, specialist, 2004-11-05}, {2002-04-13, Brisbane, 92000, assistant operations manager, 2002-04-13}], Ronyak}|\n",
      "+------------------------------------+---------------------------------------------------------------------------------------------------------------------------------------------------------------------------------------------------------------------------------------------------------------------------------------------------------------------------------------------------------------------------------------------------------------------------------------------------------+\n",
      "only showing top 1 row\n",
      "\n",
      "root\n",
      " |-- id: string (nullable = true)\n",
      " |-- profile: struct (nullable = true)\n",
      " |    |-- firstName: string (nullable = true)\n",
      " |    |-- jobHistory: array (nullable = true)\n",
      " |    |    |-- element: struct (containsNull = true)\n",
      " |    |    |    |-- fromDate: string (nullable = true)\n",
      " |    |    |    |-- location: string (nullable = true)\n",
      " |    |    |    |-- salary: long (nullable = true)\n",
      " |    |    |    |-- title: string (nullable = true)\n",
      " |    |    |    |-- toDate: string (nullable = true)\n",
      " |    |-- lastName: string (nullable = true)\n",
      "\n"
     ]
    },
    {
     "data": {
      "text/plain": [
       "190000"
      ]
     },
     "execution_count": 3,
     "metadata": {},
     "output_type": "execute_result"
    }
   ],
   "source": [
    "# 读取JSON文件\n",
    "df_user = spark.read.json(\"user.json\")\n",
    "df_user.show(1,truncate =False)\n",
    "df_user.printSchema()\n",
    "df_user.count()\n"
   ]
  },
  {
   "cell_type": "code",
   "execution_count": 4,
   "metadata": {},
   "outputs": [
    {
     "name": "stdout",
     "output_type": "stream",
     "text": [
      "+--------------------+\n",
      "|                  id|\n",
      "+--------------------+\n",
      "|557c2960-c218-4ee...|\n",
      "|ef4260d6-500d-4ec...|\n",
      "|5d7c0aeb-515b-4d2...|\n",
      "|c37de051-44e8-429...|\n",
      "|58abded2-f45f-4f9...|\n",
      "|ec497bd4-ac2b-4a0...|\n",
      "|436d7423-265a-49e...|\n",
      "|feff51e1-149c-4ef...|\n",
      "|116cc000-a458-4cf...|\n",
      "|824f8f2e-1512-4b8...|\n",
      "+--------------------+\n",
      "only showing top 10 rows\n",
      "\n"
     ]
    },
    {
     "data": {
      "text/plain": [
       "190000"
      ]
     },
     "execution_count": 4,
     "metadata": {},
     "output_type": "execute_result"
    }
   ],
   "source": [
    "from pyspark.sql.functions import broadcast\n",
    "df_user_id = df_user.na.drop().select(\"id\").distinct()\n",
    "\n",
    "df_user_id.show(10)\n",
    "df_user_id.count()\n",
    "\n",
    "# Broadcast the user IDs\n",
    "# broadcast_user_ids = spark.sparkContext.broadcast(df_user_id.collect())\n",
    "\n",
    "# 在PySpark中，使用广播变量（Broadcast Variables）时，\n",
    "# 需要将数据从分布式的Executor节点传输到驱动程序节点（Driver节点）。\n",
    "# 这是因为广播变量是在驱动程序上创建和管理的，然后将其分发到工作节点上的任务中使用。\n",
    "# 具体来说，为了在广播变量中使用DataFrame或RDD的数据，需要使用collect()方法将数据收集到驱动程序节点。"
   ]
  },
  {
   "cell_type": "code",
   "execution_count": 5,
   "metadata": {},
   "outputs": [
    {
     "name": "stderr",
     "output_type": "stream",
     "text": [
      "C:\\Users\\nining\\AppData\\Local\\Temp\\ipykernel_7796\\4165628295.py:3: DeprecationWarning: \n",
      "Pyarrow will become a required dependency of pandas in the next major release of pandas (pandas 3.0),\n",
      "(to allow more performant data types, such as the Arrow string type, and better interoperability with other libraries)\n",
      "but was not found to be installed on your system.\n",
      "If this would cause problems for you,\n",
      "please provide us feedback at https://github.com/pandas-dev/pandas/issues/54466\n",
      "        \n",
      "  import pandas as pd\n"
     ]
    },
    {
     "name": "stdout",
     "output_type": "stream",
     "text": [
      "+-------------------+--------------------+--------------------+--------------------+\n",
      "|           DateTime|          VideoTitle|              events|                  id|\n",
      "+-------------------+--------------------+--------------------+--------------------+\n",
      "|               NULL|App Web|Clips|a-c...|157,120,160,104,1...|bba4a92f-32af-480...|\n",
      "|2024-01-11 10:30:53|news| Shark attac...|127,157,120,160,1...|47c0d0ce-2641-4ce...|\n",
      "|2024-01-11 10:30:21|news| Shark attac...|127,157,120,160,1...|25b25121-cd88-4cc...|\n",
      "|2024-01-11 10:31:27|news| Chilean nav...|157,120,160,104,1...|2539be2f-e94c-4f2...|\n",
      "|2024-01-11 10:30:33|news| Video shows...|157,120,160,104,1...|ebef8dd1-e411-4f3...|\n",
      "|2024-01-11 10:30:18|App Web|Clips|tod...|127,157,120,160,1...|9d3394e9-8222-429...|\n",
      "|2024-01-11 10:30:22|news| Australian ...|127,157,120,160,1...|f4ae98b8-db29-4d2...|\n",
      "|2024-01-11 10:32:50|news| Chilean nav...|127,157,120,160,1...|3177bc7b-2f5a-444...|\n",
      "|2024-01-11 10:32:37|news| Australian ...|157,120,160,104,1...|953e0e7a-3552-4fd...|\n",
      "|  202401#1110k33l51|news| Chilean nav...|127,157,120,160,1...|079bbc72-6308-435...|\n",
      "|2024-01-11 10:32:42|news| Chilean nav...|157,120,160,104,1...|33844c8f-2d94-4d0...|\n",
      "|2024-01-11 10:34:01|news| Man wins bi...|127,157,120,160,1...|58245a72-8f8f-417...|\n",
      "|2024-01-11 10:34:07|App Web|Clips|tod...|157,120,160,104,1...|952e41b2-d907-45d...|\n",
      "|2024-01-11 10:32:18|news| Celebrity r...|157,120,160,104,1...|c2c82a04-ac3d-44c...|\n",
      "|2024-01-11 10:34:50|news| Man wins bi...|157,120,160,104,1...|0c42d86f-30e3-46b...|\n",
      "|2024-01-11 10:34:07|news|Exclusive CC...|157,120,160,104,1...|2fb9563c-978e-4fb...|\n",
      "|2024-01-11 10:33:07|news|Blue shark w...|127,157,120,160,1...|c87484c1-145f-4fe...|\n",
      "|2024-01-11 10:36:05|news|Young Queens...|157,120,160,104,1...|6607becf-5691-461...|\n",
      "|2024-01-11 10:35:58|news| Celebrity r...|127,157,120,160,1...|1da5b9f4-8713-4b4...|\n",
      "|2024-01-11 10:36:45|news| Child pulle...|157,120,160,104,1...|fb97801e-7842-47a...|\n",
      "|2024-01-11 10:35:55|news| Australian ...|127,157,120,160,1...|358b9bf1-7a37-464...|\n",
      "|2024-01-11 10:35:55|news|Frog alleged...|157,120,160,104,1...|aaeb34e3-9353-46a...|\n",
      "|2024-01-11 10:41:05|news| Celebrity r...|127,157,120,160,1...|951e8af9-0f65-47a...|\n",
      "|2024-01-11 10:41:27|news| Shark attac...|127,157,120,160,1...|c77d8c15-b143-46e...|\n",
      "|2024-01-11 10:38:28|news| Shark attac...|127,157,120,160,1...|b8841ce9-5d5f-458...|\n",
      "|2024-01-11 10:41:07|news|Dramatic arr...|157,120,160,104,1...|a7653a35-9e09-4a2...|\n",
      "|2024-01-11 10:41:29|news| McDonald's ...|127,157,120,160,1...|c5eb5e27-b194-443...|\n",
      "|2024-01-11 10:39:48|news| Shark attac...|157,120,160,104,1...|2f9040da-7ebf-4cb...|\n",
      "|2024-01-11 10:39:29|news| Massive bra...|127,157,120,160,1...|f29fd287-0775-42a...|\n",
      "|2024-01-11 10:40:56|news|Meryl Streep...|127,157,120,160,1...|11fb3f79-1aa2-4f5...|\n",
      "|2024-01-11 10:39:44|news|Gold Coast s...|157,120,160,104,1...|bb2f6e70-3cc7-4e4...|\n",
      "|2024-01-11 10:41:09|news|Woman killed...|157,120,160,104,1...|0f6a46b3-1c6e-4a7...|\n",
      "|2024-01-11 10:43:07|App Web|Clips|pos...|127,157,120,160,1...|e5522e75-fb9a-4f3...|\n",
      "|2024-01-11 10:43:09|news| Shark attac...|157,120,160,104,1...|289c5fc6-d4ac-443...|\n",
      "|2024-01-11 10:44:52|news| Avalanche b...|127,157,120,160,1...|3cffa31c-4553-420...|\n",
      "|2024-01-11 10:43:26|news| Celebrity r...|157,120,160,104,1...|11ec2c02-8d34-409...|\n",
      "|2024-01-11 10:43:30|news| Two men hos...|157,120,160,104,1...|646dccd7-077f-42c...|\n",
      "|2024-01-11 10:44:55|news| Video shows...|157,120,160,104,1...|ddecc9d8-f2c7-4ce...|\n",
      "|2024-01-11 10:42:28|news| Man wins bi...|127,157,120,160,1...|8cf442bc-c751-422...|\n",
      "|2024-01-11 10:41:48|news| Avalanche b...|127,157,120,160,1...|ba3eaaf1-24c4-4d1...|\n",
      "|2024-01-11 10:42:32|news| Avalanche b...|127,157,120,160,1...|0e32bb7e-e458-4fe...|\n",
      "|2024-01-11 10:42:50|news|Young Queens...|127,157,120,160,1...|a5dadaef-ec67-4fb...|\n",
      "|2024-01-11 10:42:45|App Web|Clips|a-c...|157,120,160,104,1...|faa48d02-f8e7-429...|\n",
      "|2024-01-11 10:45:09|news|Frog alleged...|127,157,120,160,1...|f094230e-4584-486...|\n",
      "|2024-01-11 10:46:29|news|Mother charg...|127,157,120,160,1...|c7fcbcdb-522e-4be...|\n",
      "|2024-01-11 10:46:20|news| Shark attac...|157,120,160,104,1...|7fdc14ec-ceff-40d...|\n",
      "|2024-01-11 10:46:15|App Web|Clips|tod...|127,157,120,160,1...|acd5c13b-cae7-463...|\n",
      "|2024-01-11 10:45:42|news|Meryl Streep...|127,157,120,160,1...|fe682ee9-fcd6-42d...|\n",
      "|2024-01-11 10:46:19|news| Video shows...|127,157,120,160,1...|0122756e-686d-40d...|\n",
      "|2024-01-11 10:49:00|news|Young Queens...|127,157,120,160,1...|d8626c46-f586-4ac...|\n",
      "|2024-01-11 10:47:03|news|Swimmers eva...|157,120,160,104,1...|ea85984d-e839-47e...|\n",
      "|2024-01-11 10:48:28|news|Frog alleged...|127,157,120,160,1...|88395f35-f338-478...|\n",
      "|2024-01-11 10:46:58|news| Chilean nav...|157,120,160,104,1...|41e86322-5d52-428...|\n",
      "|2024-01-11 10:46:46|news| Shark attac...|157,120,160,104,1...|165e474a-9d82-439...|\n",
      "|2024-01-11 10:49:22|news| Shark attac...|157,120,160,104,1...|47372832-3e16-4e2...|\n",
      "|2024-01-11 10:48:39|news| Driver take...|157,120,160,104,1...|10d5c2d8-6426-495...|\n",
      "|2024-01-11 10:49:29|news| Avalanche b...|127,157,120,160,1...|07166649-3a33-48a...|\n",
      "|2024-01-11 10:47:34|news| Kim Kardash...|127,157,120,160,1...|54c98ad5-a67e-475...|\n",
      "|2024-01-11 10:48:08|news|Mother charg...|127,157,120,160,1...|522310eb-f95c-459...|\n",
      "|2024-01-11 10:47:22|news|Pint-sized A...|127,157,120,160,1...|31ac324f-6c6a-4b7...|\n",
      "|2024-01-11 10:50:39|news| Avalanche b...|127,157,120,160,1...|975fa6e3-7b2b-43d...|\n",
      "|2024-01-11 10:50:29|news| Chilean nav...|157,120,160,104,1...|984ac4e7-70f3-436...|\n",
      "|2024-01-11 10:50:38|news|Pint-sized A...|127,157,120,160,1...|a9085acc-d9ad-411...|\n",
      "|2024-01-11 10:53:08|news|Frozen water...|157,120,160,104,1...|6b2fe6ed-0753-448...|\n",
      "|2024-01-11 10:53:16|news| Shark attac...|157,120,160,104,1...|2c538bc6-09df-47b...|\n",
      "|2024-01-11 10:52:14|news|Woman killed...|157,120,160,104,1...|3643db45-768f-427...|\n",
      "|2024-01-11 10:51:23|news| Shark attac...|157,120,160,104,1...|7f6aad8a-4a99-47e...|\n",
      "|2024-01-11 10:52:31|news|Chris Sandow...|157,120,160,104,1...|f21b5ebc-e990-441...|\n",
      "|2024-01-11 10:51:56|App Web|Clips|a-c...|127,157,120,160,1...|c18e031a-4254-4c5...|\n",
      "|2024-01-11 10:50:25|news|Meryl Streep...|148,157,120,160,1...|8a131215-d262-41e...|\n",
      "|2024-01-11 10:55:58|news|Frog alleged...|127,157,120,160,1...|a26a1db3-47d0-423...|\n",
      "|2024-01-11 10:53:49|news|Cold-blooded...|157,120,160,104,1...|d1bc367b-47ed-426...|\n",
      "|2024-01-11 10:56:23|news|Bali overrun...|157,120,160,104,1...|004b676f-0d4d-4ab...|\n",
      "|2024-01-11 10:55:47|news| Celebrity r...|157,120,160,104,1...|0f0c88ee-a901-458...|\n",
      "|2024-01-11 10:53:29|App Web|Clips|a-c...|127,157,120,160,1...|bd48f8e0-0843-4d3...|\n",
      "|2024-01-11 10:55:00|App Web|Clips|tod...|127,157,120,160,1...|d24d4d52-d1c5-404...|\n",
      "|2024-01-11 10:53:43|news|Melbourne st...|157,120,160,104,1...|0d6b1151-c611-4ce...|\n",
      "|2024-01-11 10:54:02|news| Pastor film...|127,157,120,160,1...|d2dea8eb-3ba9-4b9...|\n",
      "|2024-01-11 10:56:10|news| Woman walki...|127,157,120,160,1...|4f73b91a-44bd-4c3...|\n",
      "|2024-01-11 10:54:32|news|Cold-blooded...|157,120,160,104,1...|7a1cbf1a-804b-4a6...|\n",
      "|2024-01-11 10:58:54|news| Video shows...|127,157,120,160,1...|87636974-5578-4b8...|\n",
      "|2024-01-11 10:58:21|news|Young Queens...|127,157,120,160,1...|256bc4a0-d5d8-4fa...|\n",
      "|2024-01-11 10:56:56|news| Kayaker rid...|157,120,160,104,1...|268d87da-724b-4c2...|\n",
      "|2024-01-11 10:58:36|news|Meryl Streep...|127,157,120,160,1...|f301d5af-8cc3-4c2...|\n",
      "|2024-01-11 10:59:00|news|Sydney servo...|157,120,160,104,1...|4e2cb053-61f8-472...|\n",
      "|2024-01-11 10:59:54|App Web|Clips|a-c...|157,120,160,104,1...|1ccdde0c-24f5-441...|\n",
      "|2024-01-11 10:58:31|news| Shark attac...|127,157,120,160,1...|835243b9-6e7b-488...|\n",
      "|2024-01-11 10:58:55|news| Video shows...|127,157,120,160,1...|62f2d7b5-9077-450...|\n",
      "|2024-01-11 10:59:44|App Web|Clips|the...|157,120,160,104,1...|914ccaa4-137d-40c...|\n",
      "|2024-01-11 10:57:55|App Web|Clips|tod...|127,157,120,160,1...|76d8e756-4611-4f3...|\n",
      "|2024-01-11 10:30:46|App Web|Clips|a-c...|157,120,160,104,1...|e5516e07-cde8-4de...|\n",
      "|2024-01-11 10:30:04|App Web|Clips|a-c...|127,157,120,160,1...|2e4f94c5-de05-4fd...|\n",
      "|2024-01-11 10:30:53|news| Shark attac...|127,157,120,160,1...|c620caeb-60de-494...|\n",
      "|2024-01-11 10:30:08|news|Pint-sized A...|157,120,160,104,1...|5e988c0e-f285-420...|\n",
      "|2024-01-11 10:30:37|news| Shark attac...|127,157,120,160,1...|bb6fa76b-3b93-4e9...|\n",
      "|2024-01-11 10:30:09|news| Child pulle...|157,120,160,104,1...|6815d905-a393-487...|\n",
      "|2024-01-11 10:30:25|news| Chilean nav...|157,120,160,104,1...|0a031d54-e8a5-4fe...|\n",
      "|2024-01-11 10:30:51|news| Video shows...|157,120,160,104,1...|077f9ac2-7d92-4de...|\n",
      "|               NULL|App Web|Clips|tod...|127,157,120,160,1...|ec9e03f0-c6f8-4ef...|\n",
      "|2024-01-11 10:30:23|news| Australian ...|127,157,120,160,1...|bb08f6ef-6128-422...|\n",
      "+-------------------+--------------------+--------------------+--------------------+\n",
      "only showing top 100 rows\n",
      "\n"
     ]
    }
   ],
   "source": [
    "from pyspark.sql.functions import udf\n",
    "from pyspark.sql.types import StringType\n",
    "import pandas as pd\n",
    "import random\n",
    "\n",
    "# 假设 id_df 是一个包含 ID 的 DataFrame，video_plays_df 是视频播放信息的 DataFrame\n",
    "\n",
    "# 将 id_df 转换为 Pandas DataFrame，并随机选择其中的 ID\n",
    "id_pandas_df = df_user_id.toPandas()\n",
    "random_ids = id_pandas_df[\"id\"].tolist()\n",
    "random.shuffle(random_ids)\n",
    "\n",
    "# 定义一个函数来随机选择 ID\n",
    "def assign_random_id():\n",
    "    return random.choice(random_ids)\n",
    "\n",
    "\n",
    "# 注册 UDF\n",
    "assign_random_id_udf = udf(assign_random_id, StringType())\n",
    "\n",
    "# # 给 video_plays_df 添加一个名为 \"id\" 的列，值为随机选择的 ID\n",
    "df = df.withColumn(\"id\", assign_random_id_udf())\n",
    "\n",
    "# # 显示添加了 ID 列后的 DataFrame\n",
    "df.show(100)"
   ]
  },
  {
   "cell_type": "code",
   "execution_count": 6,
   "metadata": {},
   "outputs": [],
   "source": [
    "file_name = rf\"F:\\申请，润\\我去澳洲\\university of adelaide\\AWS\\ETL\\data_source_id\"\n",
    "#异常值写入csv日志\n",
    "\n",
    "df.coalesce(1).write.csv(file_name, header=True)\n"
   ]
  }
 ],
 "metadata": {
  "kernelspec": {
   "display_name": "bigdata",
   "language": "python",
   "name": "python3"
  },
  "language_info": {
   "codemirror_mode": {
    "name": "ipython",
    "version": 3
   },
   "file_extension": ".py",
   "mimetype": "text/x-python",
   "name": "python",
   "nbconvert_exporter": "python",
   "pygments_lexer": "ipython3",
   "version": "3.9.18"
  }
 },
 "nbformat": 4,
 "nbformat_minor": 2
}
